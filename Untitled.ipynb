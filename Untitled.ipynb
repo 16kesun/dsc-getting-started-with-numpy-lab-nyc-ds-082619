{
 "cells": [
  {
   "cell_type": "markdown",
   "metadata": {},
   "source": [
    "# NumPy Lab"
   ]
  },
  {
   "cell_type": "code",
   "execution_count": 1,
   "metadata": {
    "collapsed": true
   },
   "outputs": [],
   "source": [
    "import numpy as np"
   ]
  },
  {
   "cell_type": "code",
   "execution_count": 5,
   "metadata": {},
   "outputs": [
    {
     "data": {
      "text/plain": [
       "array([ 207.14244789,  184.9001544 ,  158.05603119,  168.63550275,\n",
       "        220.1055389 ,  178.36513834,  194.19545815,  211.65622453,\n",
       "        145.72791097,  167.25126719,  131.81575038,  159.81563923,\n",
       "        143.08214112,  159.72443701,  187.85195643,  210.59430662,\n",
       "        193.69146754,  209.34975206,  183.9826621 ,  184.05040233,\n",
       "        140.29146942,  208.50746954,  162.10461069,  129.61810243,\n",
       "        213.9408266 ,  160.40670519,  221.85119736,  168.1510675 ,\n",
       "        162.33004013,  220.73470948,  154.01961973,  192.40940663,\n",
       "        182.45480795,  211.40509814,  141.50391584,  159.61882013,\n",
       "        198.26007016,  164.5293026 ,  196.68202263,  218.11126099,\n",
       "        185.92113034,  198.99866647,  158.44139283,  204.50721845,\n",
       "        203.21938385,  126.43874681,  174.27389096,  157.44700338,\n",
       "        182.35274678,  184.53506459])"
      ]
     },
     "execution_count": 5,
     "metadata": {},
     "output_type": "execute_result"
    }
   ],
   "source": [
    "weights = np.random.normal(loc=180, scale=25, size=50)\n",
    "weights"
   ]
  },
  {
   "cell_type": "code",
   "execution_count": null,
   "metadata": {
    "collapsed": true
   },
   "outputs": [],
   "source": []
  }
 ],
 "metadata": {
  "kernelspec": {
   "display_name": "Python 3",
   "language": "python",
   "name": "python3"
  },
  "language_info": {
   "codemirror_mode": {
    "name": "ipython",
    "version": 3
   },
   "file_extension": ".py",
   "mimetype": "text/x-python",
   "name": "python",
   "nbconvert_exporter": "python",
   "pygments_lexer": "ipython3",
   "version": "3.6.2"
  }
 },
 "nbformat": 4,
 "nbformat_minor": 2
}
